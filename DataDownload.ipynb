{
 "cells": [
  {
   "cell_type": "code",
   "execution_count": null,
   "metadata": {},
   "outputs": [],
   "source": [
    "import basedosdados as bd\n",
    "import geopandas as gpd\n",
    "from shapely import wkt"
   ]
  },
  {
   "cell_type": "code",
   "execution_count": null,
   "metadata": {},
   "outputs": [],
   "source": [
    "# dados de Nascidos Vivos\n",
    "\n",
    "query = \"\"\"\n",
    "SELECT ano, id_municipio_nascimento, data_nascimento, sexo, peso, raca_cor, apgar1, apgar5, gestacao_agr, tipo_gravidez, tipo_parto,\n",
    "        quantidade_filhos_vivos, quantidade_filhos_mortos, idade_mae, idade_pai, escolaridade_mae, estado_civil_mae, quantidade_parto_normal,  \n",
    "        quantidade_parto_cesareo, ocupacao_mae, formacao_profissional_responsavel, tipo_apresentacao, inducao_parto, gestacoes_ant,inicio_pre_natal,\n",
    "        pre_natal, id_anomalia, codigo_anomalia, \n",
    "\n",
    "FROM basedosdados.br_ms_sinasc.microdados\n",
    "WHERE (ano BETWEEN 2010 AND 2020) AND (sigla_uf = 'RJ')\n",
    "\"\"\"\n",
    "\n",
    "df = bd.read_sql(query, billing_project_id=\"nascidosvivos\")"
   ]
  },
  {
   "cell_type": "code",
   "execution_count": null,
   "metadata": {},
   "outputs": [],
   "source": [
    "df.to_csv('data/df.csv', index=True)"
   ]
  },
  {
   "cell_type": "code",
   "execution_count": null,
   "metadata": {},
   "outputs": [],
   "source": [
    "# dados das cidades do estado do Rio de Janeiro\n",
    "\n",
    "query = \"\"\"\n",
    "SELECT DISTINCT M.id_municipio, SC.nome_municipio, M.geometria\n",
    "FROM basedosdados.br_geobr_mapas.municipio M\n",
    "INNER JOIN basedosdados.br_geobr_mapas.setor_censitario_2010 SC\n",
    "ON M.id_municipio = SC.id_municipio\n",
    "WHERE SC.sigla_uf = 'RJ'\n",
    "\"\"\"\n",
    "\n",
    "cidades = bd.read_sql(query, billing_project_id=\"nascidosvivos\")"
   ]
  },
  {
   "cell_type": "code",
   "execution_count": null,
   "metadata": {},
   "outputs": [],
   "source": [
    "cidades['geometria'] = cidades['geometria'].apply(wkt.loads)\n",
    "cidades = gpd.GeoDataFrame(cidades, geometry='geometria')\n",
    "\n",
    "cidades.to_file('data/cidades.geojson', driver='GeoJSON')\n",
    "cidades.to_csv('data/cidades.csv', index=True)"
   ]
  }
 ],
 "metadata": {
  "kernelspec": {
   "display_name": "Python 3",
   "language": "python",
   "name": "python3"
  },
  "language_info": {
   "name": "python",
   "version": "3.10.6"
  },
  "orig_nbformat": 4
 },
 "nbformat": 4,
 "nbformat_minor": 2
}
