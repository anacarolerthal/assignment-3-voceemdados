{
 "cells": [
  {
   "cell_type": "code",
   "execution_count": 176,
   "metadata": {},
   "outputs": [],
   "source": [
    "import pandas as pd\n",
    "import warnings\n",
    "\n",
    "warnings.filterwarnings('ignore')"
   ]
  },
  {
   "cell_type": "code",
   "execution_count": 177,
   "metadata": {},
   "outputs": [],
   "source": [
    "df = pd.read_csv('data/df.csv', index_col=0)\n",
    "cidades = pd.read_csv('data/cidades.csv', index_col=0)"
   ]
  },
  {
   "cell_type": "code",
   "execution_count": 178,
   "metadata": {},
   "outputs": [],
   "source": [
    "df.rename(columns={'id_municipio_nascimento': 'id_municipio'}, inplace=True)"
   ]
  },
  {
   "cell_type": "code",
   "execution_count": 179,
   "metadata": {},
   "outputs": [],
   "source": [
    "idMunicipios = cidades['id_municipio'].to_list()\n",
    "flt = df['id_municipio'].isin(idMunicipios)\n",
    "df = df[flt]\n",
    "\n",
    "df['id_municipio'] = df['id_municipio'].astype('int')\n",
    "df['id_municipio'] = df['id_municipio'].astype('str')"
   ]
  },
  {
   "cell_type": "code",
   "execution_count": 180,
   "metadata": {},
   "outputs": [],
   "source": [
    "cidades['id_municipio'] = cidades['id_municipio'].astype(int)\n",
    "cidades['id_municipio'] = cidades['id_municipio'].astype(str)"
   ]
  },
  {
   "cell_type": "code",
   "execution_count": 181,
   "metadata": {},
   "outputs": [],
   "source": [
    "df = df.merge(cidades[['id_municipio', 'nome_municipio']], on='id_municipio', how='left')"
   ]
  },
  {
   "cell_type": "code",
   "execution_count": 182,
   "metadata": {},
   "outputs": [],
   "source": [
    "# drop duplicate rows\n",
    "df = df.drop_duplicates()"
   ]
  },
  {
   "cell_type": "code",
   "execution_count": 183,
   "metadata": {},
   "outputs": [],
   "source": [
    "df = df.dropna(subset=['apgar1'])\n",
    "flt = df['apgar1'] > 10\n",
    "df = df[~flt]\n",
    "\n",
    "# replace values with more descriptive ones\n",
    "df = df.replace({'sexo': {1: 'Masculino', 2: 'Feminino', 'M': 'Masculino', 'F': 'Feminino'},\n",
    "                 'raca_cor': {1: 'Branca', 2: 'Preta', 3: 'Amarela', 4: 'Parda', 5: 'Indígena', \n",
    "                              9: 'Ignorado'},\n",
    "                 'gestacao_agr': {1: 'Menos que 22 semanas', 2: '22-27 semanas', 3: '28-31 semanas', \n",
    "                                  4: '32-36 semanas', 5: '37-41 semanas', 6: 'Mais de 41 semanas', \n",
    "                                  9: 'Ignorado'},\n",
    "                 'tipo_gravidez': {1: 'Única', 2: 'Gêmea', 3: 'Múltipla', 9: 'Ignorado'},\n",
    "                 'tipo_parto': {1: 'Vaginal', 2: 'Cesárea', 9: 'Ignorado'},\n",
    "                 'escolaridade_mae': {0: 'Sem escolaridade', 1: '4ª série do EF completa', 2: '8ª série do EF completa', \n",
    "                                      3: 'Ensino Médio completo', 4: 'Superior incompleto', 5: 'Superior completo', \n",
    "                                      9: 'Ignorado'},\n",
    "                 'estado_civil_mae': {1: 'Solteira', 2: 'Casada', 3: 'Viúva', 4: 'Divorciada', 5: 'União estável', \n",
    "                                      9: 'Ignorado'},\n",
    "                 'inducao_parto': {1: 'Sim', 2: 'Não', 9: 'Ignorado'},\n",
    "                 'tipo_apresentacao': {1: 'Cefálica', 2: 'Pélvica', 3: 'Transversa', 9: 'Ignorado'},\n",
    "                 'formacao_profissional_responsavel': {1: 'Médico', 2: 'Enfermeiro', 3: 'Técnico de enfermagem', \n",
    "                                                       4: 'Outro', 9: 'Ignorado'},\n",
    "                 'formacao_profissional_responsavel': {1: 'Médico', 2: 'Enfermeiro', 3: 'Técnico de enfermagem', \n",
    "                                                       4: 'Outro', 9: 'Ignorado'},\n",
    "                 'id_anomalia': {1: 'Sim', 2: 'Não', 9: 'Ignorado'},\n",
    "                 'quantidade_parto_cesareo': {99: 'Ignorado'},\n",
    "                 'quantidade_parto_normal': {99: 'Ignorado'}})\n",
    "\n",
    "# make inicio_pre_natal ints where possible\n",
    "df['inicio_pre_natal'] = pd.to_numeric(df['inicio_pre_natal'], errors='coerce')\n",
    "df['inicio_pre_natal'] = df['inicio_pre_natal'].astype('Int64')"
   ]
  },
  {
   "cell_type": "code",
   "execution_count": 184,
   "metadata": {},
   "outputs": [],
   "source": [
    "apgarMean = df.groupby(['id_municipio', 'nome_municipio', 'ano'])['apgar1'].mean().reset_index()\n",
    "apgarMean['apgar1'] = apgarMean['apgar1'].round(2)\n",
    "\n",
    "apgarMean.to_csv('data/apgar1Mean.csv', index=False)\n",
    "apgarMean.to_csv('../Nascidos-Vivos-Viz/apgar1Mean.csv', index=False)"
   ]
  },
  {
   "cell_type": "code",
   "execution_count": 185,
   "metadata": {},
   "outputs": [],
   "source": [
    "apgarMeanCombined = df.groupby(['id_municipio', 'nome_municipio', 'ano', 'sexo', 'raca_cor', \n",
    "                                'data_nascimento', 'tipo_parto'])['apgar1'].mean().reset_index()\n",
    "apgarMeanCombined['apgar1'] = apgarMeanCombined['apgar1'].round(2)\n",
    "\n",
    "apgarMeanCombined.to_csv('../Nascidos-Vivos-Viz/apgar1Mean_Combined.csv', index=False)"
   ]
  },
  {
   "cell_type": "code",
   "execution_count": 186,
   "metadata": {},
   "outputs": [],
   "source": [
    "apgarMean.query('ano == 2020').to_csv('data/apgar1Mean_2020.csv', index=False)\n",
    "apgarMean.query('ano == 2020').to_csv('../Nascidos-Vivos-Viz/apgar1Mean_2020.csv', index=False)"
   ]
  },
  {
   "cell_type": "code",
   "execution_count": 187,
   "metadata": {},
   "outputs": [
    {
     "data": {
      "text/html": [
       "<div>\n",
       "<style scoped>\n",
       "    .dataframe tbody tr th:only-of-type {\n",
       "        vertical-align: middle;\n",
       "    }\n",
       "\n",
       "    .dataframe tbody tr th {\n",
       "        vertical-align: top;\n",
       "    }\n",
       "\n",
       "    .dataframe thead th {\n",
       "        text-align: right;\n",
       "    }\n",
       "</style>\n",
       "<table border=\"1\" class=\"dataframe\">\n",
       "  <thead>\n",
       "    <tr style=\"text-align: right;\">\n",
       "      <th></th>\n",
       "      <th>id_municipio</th>\n",
       "      <th>nome_municipio</th>\n",
       "      <th>ano</th>\n",
       "      <th>apgar1</th>\n",
       "    </tr>\n",
       "  </thead>\n",
       "  <tbody>\n",
       "    <tr>\n",
       "      <th>0</th>\n",
       "      <td>3300100</td>\n",
       "      <td>Angra Dos Reis</td>\n",
       "      <td>2010</td>\n",
       "      <td>8.09</td>\n",
       "    </tr>\n",
       "    <tr>\n",
       "      <th>1</th>\n",
       "      <td>3300100</td>\n",
       "      <td>Angra Dos Reis</td>\n",
       "      <td>2011</td>\n",
       "      <td>8.08</td>\n",
       "    </tr>\n",
       "    <tr>\n",
       "      <th>2</th>\n",
       "      <td>3300100</td>\n",
       "      <td>Angra Dos Reis</td>\n",
       "      <td>2012</td>\n",
       "      <td>8.16</td>\n",
       "    </tr>\n",
       "    <tr>\n",
       "      <th>3</th>\n",
       "      <td>3300100</td>\n",
       "      <td>Angra Dos Reis</td>\n",
       "      <td>2013</td>\n",
       "      <td>8.17</td>\n",
       "    </tr>\n",
       "    <tr>\n",
       "      <th>4</th>\n",
       "      <td>3300100</td>\n",
       "      <td>Angra Dos Reis</td>\n",
       "      <td>2014</td>\n",
       "      <td>8.22</td>\n",
       "    </tr>\n",
       "    <tr>\n",
       "      <th>...</th>\n",
       "      <td>...</td>\n",
       "      <td>...</td>\n",
       "      <td>...</td>\n",
       "      <td>...</td>\n",
       "    </tr>\n",
       "    <tr>\n",
       "      <th>889</th>\n",
       "      <td>3306305</td>\n",
       "      <td>Volta Redonda</td>\n",
       "      <td>2016</td>\n",
       "      <td>8.47</td>\n",
       "    </tr>\n",
       "    <tr>\n",
       "      <th>890</th>\n",
       "      <td>3306305</td>\n",
       "      <td>Volta Redonda</td>\n",
       "      <td>2017</td>\n",
       "      <td>8.45</td>\n",
       "    </tr>\n",
       "    <tr>\n",
       "      <th>891</th>\n",
       "      <td>3306305</td>\n",
       "      <td>Volta Redonda</td>\n",
       "      <td>2018</td>\n",
       "      <td>8.51</td>\n",
       "    </tr>\n",
       "    <tr>\n",
       "      <th>892</th>\n",
       "      <td>3306305</td>\n",
       "      <td>Volta Redonda</td>\n",
       "      <td>2019</td>\n",
       "      <td>8.42</td>\n",
       "    </tr>\n",
       "    <tr>\n",
       "      <th>893</th>\n",
       "      <td>3306305</td>\n",
       "      <td>Volta Redonda</td>\n",
       "      <td>2020</td>\n",
       "      <td>8.44</td>\n",
       "    </tr>\n",
       "  </tbody>\n",
       "</table>\n",
       "<p>894 rows × 4 columns</p>\n",
       "</div>"
      ],
      "text/plain": [
       "    id_municipio  nome_municipio   ano  apgar1\n",
       "0        3300100  Angra Dos Reis  2010    8.09\n",
       "1        3300100  Angra Dos Reis  2011    8.08\n",
       "2        3300100  Angra Dos Reis  2012    8.16\n",
       "3        3300100  Angra Dos Reis  2013    8.17\n",
       "4        3300100  Angra Dos Reis  2014    8.22\n",
       "..           ...             ...   ...     ...\n",
       "889      3306305   Volta Redonda  2016    8.47\n",
       "890      3306305   Volta Redonda  2017    8.45\n",
       "891      3306305   Volta Redonda  2018    8.51\n",
       "892      3306305   Volta Redonda  2019    8.42\n",
       "893      3306305   Volta Redonda  2020    8.44\n",
       "\n",
       "[894 rows x 4 columns]"
      ]
     },
     "execution_count": 187,
     "metadata": {},
     "output_type": "execute_result"
    }
   ],
   "source": [
    "apgarMean"
   ]
  }
 ],
 "metadata": {
  "kernelspec": {
   "display_name": "Python 3",
   "language": "python",
   "name": "python3"
  },
  "language_info": {
   "codemirror_mode": {
    "name": "ipython",
    "version": 3
   },
   "file_extension": ".py",
   "mimetype": "text/x-python",
   "name": "python",
   "nbconvert_exporter": "python",
   "pygments_lexer": "ipython3",
   "version": "3.10.6"
  },
  "orig_nbformat": 4
 },
 "nbformat": 4,
 "nbformat_minor": 2
}
